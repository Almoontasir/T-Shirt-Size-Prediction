{
 "cells": [
  {
   "cell_type": "code",
   "execution_count": 6,
   "metadata": {
    "scrolled": false
   },
   "outputs": [
    {
     "name": "stdout",
     "output_type": "stream",
     "text": [
      "   Weight  Hight Size\n",
      "0      55    5.1    S\n",
      "1      75    5.5    L\n",
      "2      65    5.3    M\n",
      "3      58    5.2    M\n",
      "4      70    5.8    L\n",
      "[2 0 1 1 0]\n",
      "[(55, 5.1), (75, 5.5), (65, 5.3), (58, 5.2), (70, 5.8)]\n",
      "0.7714285714285715\n",
      "    Actual  Predicted\n",
      "0        1          1\n",
      "1        1          1\n",
      "2        0          0\n",
      "3        1          2\n",
      "4        2          2\n",
      "5        2          2\n",
      "6        1          1\n",
      "7        1          1\n",
      "8        1          1\n",
      "9        2          2\n",
      "10       0          1\n",
      "11       1          1\n",
      "12       2          2\n",
      "13       3          3\n",
      "14       2          2\n",
      "15       0          0\n",
      "16       2          2\n",
      "17       1          2\n",
      "18       2          2\n",
      "19       2          2\n",
      "20       2          2\n",
      "21       1          2\n",
      "22       0          1\n",
      "23       0          1\n",
      "24       1          2\n",
      "25       1          1\n",
      "26       2          2\n",
      "27       3          3\n",
      "28       2          2\n",
      "29       0          0\n",
      "30       3          3\n",
      "31       0          1\n",
      "32       3          3\n",
      "33       1          1\n",
      "34       2          2\n"
     ]
    },
    {
     "data": {
      "image/png": "[encoded data removed]",
      "text/plain": [
       "<Figure size 432x288 with 1 Axes>"
      ]
     },
     "metadata": {
      "needs_background": "light"
     },
     "output_type": "display_data"
    },
    {
     "name": "stderr",
     "output_type": "stream",
     "text": [
      "C:\\ProgramData\\Anaconda3\\lib\\site-packages\\scipy\\stats\\stats.py:1713: FutureWarning: Using a non-tuple sequence for multidimensional indexing is deprecated; use `arr[tuple(seq)]` instead of `arr[seq]`. In the future this will be interpreted as an array index, `arr[np.array(seq)]`, which will result either in an error or a different result.\n",
      "  return np.add.reduce(sorted[indexer] * weights, axis=axis) / sumval\n"
     ]
    },
    {
     "data": {
      "text/plain": [
       "<seaborn.axisgrid.JointGrid at 0x8b8e530>"
      ]
     },
     "execution_count": 6,
     "metadata": {},
     "output_type": "execute_result"
    },
    {
     "data": {
      "image/png": "[encoded data removed]",
      "text/plain": [
       "<Figure size 432x432 with 3 Axes>"
      ]
     },
     "metadata": {
      "needs_background": "light"
     },
     "output_type": "display_data"
    },
    {
     "data": {
      "image/png": "[encoded data removed]",
      "text/plain": [
       "<Figure size 432x432 with 3 Axes>"
      ]
     },
     "metadata": {
      "needs_background": "light"
     },
     "output_type": "display_data"
    }
   ],
   "source": [
    "import pandas as pd\n",
    "import numpy as np\n",
    "from sklearn.model_selection import train_test_split \n",
    "from sklearn.preprocessing import StandardScaler \n",
    "from sklearn.neighbors import KNeighborsClassifier \n",
    "from sklearn.metrics import confusion_matrix\n",
    "from sklearn.metrics import f1_score\n",
    "from sklearn.metrics import accuracy_score\n",
    "from sklearn import datasets\n",
    "from sklearn.metrics import confusion_matrix\n",
    "from sklearn.model_selection import train_test_split \n",
    "from sklearn import preprocessing\n",
    "from sklearn import tree\n",
    "import matplotlib.pyplot as plot\n",
    "import seaborn as sns;\n",
    "dataset = pd.read_csv('tshirt.csv')\n",
    "x = dataset['Weight'].values\n",
    "y = dataset['Hight'].values\n",
    "z = dataset['Size'].values\n",
    "print(dataset.head(5))\n",
    "le =preprocessing.LabelEncoder()\n",
    "size=le.fit_transform(z)\n",
    "print(size[:5])\n",
    "features=list(zip(x,y))\n",
    "print(features[:5])\n",
    "X_train, X_test, Y_train, Y_test = train_test_split(features,size, test_size=.7) \n",
    "model = tree.DecisionTreeClassifier()\n",
    "model.fit(X_train, Y_train)\n",
    "model_predictions = model. predict(X_test)\n",
    "# Accuracy of prediction\n",
    "accuracyScore = accuracy_score(Y_test, model_predictions)\n",
    "print(accuracyScore)\n",
    "df = pd.DataFrame({'Actual':Y_test.flatten(), 'Predicted':model_predictions.flatten()})  \n",
    "print(df)\n",
    "df.plot(kind='bar')\n",
    "plot.show()\n",
    "sns.jointplot(x=x[:35],y=model_predictions,data=dataset)\n",
    "sns.jointplot(x=y[:35],y=model_predictions,data=dataset)\n"
   ]
  },
  {
   "cell_type": "code",
   "execution_count": null,
   "metadata": {},
   "outputs": [],
   "source": []
  }
 ],
 "metadata": {
  "kernelspec": {
   "display_name": "Python 3",
   "language": "python",
   "name": "python3"
  },
  "language_info": {
   "codemirror_mode": {
    "name": "ipython",
    "version": 3
   },
   "file_extension": ".py",
   "mimetype": "text/x-python",
   "name": "python",
   "nbconvert_exporter": "python",
   "pygments_lexer": "ipython3",
   "version": "3.7.0"
  }
 },
 "nbformat": 4,
 "nbformat_minor": 2
}
