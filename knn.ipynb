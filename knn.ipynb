{
 "cells": [
  {
   "cell_type": "code",
   "execution_count": 27,
   "metadata": {
    "scrolled": false
   },
   "outputs": [
    {
     "name": "stdout",
     "output_type": "stream",
     "text": [
      "   Weight  Hight Size\n",
      "0      55    5.1    S\n",
      "1      75    5.5    L\n",
      "2      65    5.3    M\n",
      "3      58    5.2    M\n",
      "4      70    5.8    L\n",
      "[2 0 1 1 0]\n",
      "[(55, 5.1), (75, 5.5), (65, 5.3), (58, 5.2), (70, 5.8)]\n",
      "0.7428571428571429\n",
      "Moon\n",
      "35\n",
      "35\n",
      "    Actual  Predicted\n",
      "0        3          0\n",
      "1        1          1\n",
      "2        1          0\n",
      "3        1          1\n",
      "4        2          2\n",
      "5        2          2\n",
      "6        3          0\n",
      "7        2          2\n",
      "8        2          2\n",
      "9        1          1\n",
      "10       2          2\n",
      "11       1          0\n",
      "12       1          0\n",
      "13       0          0\n",
      "14       2          2\n",
      "15       1          1\n",
      "16       1          1\n",
      "17       0          0\n",
      "18       2          2\n",
      "19       3          0\n",
      "20       2          2\n",
      "21       1          1\n",
      "22       2          2\n",
      "23       0          0\n",
      "24       2          2\n",
      "25       2          2\n",
      "26       0          0\n",
      "27       1          1\n",
      "28       2          2\n",
      "29       2          2\n",
      "30       1          0\n",
      "31       2          2\n",
      "32       1          0\n",
      "33       1          1\n",
      "34       3          0\n"
     ]
    },
    {
     "data": {
      "image/png": "[encoded data removed]",
      "text/plain": [
       "<Figure size 432x288 with 1 Axes>"
      ]
     },
     "metadata": {
      "needs_background": "light"
     },
     "output_type": "display_data"
    },
    {
     "name": "stderr",
     "output_type": "stream",
     "text": [
      "C:\\ProgramData\\Anaconda3\\lib\\site-packages\\scipy\\stats\\stats.py:1713: FutureWarning: Using a non-tuple sequence for multidimensional indexing is deprecated; use `arr[tuple(seq)]` instead of `arr[seq]`. In the future this will be interpreted as an array index, `arr[np.array(seq)]`, which will result either in an error or a different result.\n",
      "  return np.add.reduce(sorted[indexer] * weights, axis=axis) / sumval\n"
     ]
    },
    {
     "data": {
      "text/plain": [
       "<seaborn.axisgrid.JointGrid at 0x9b1e870>"
      ]
     },
     "execution_count": 27,
     "metadata": {},
     "output_type": "execute_result"
    },
    {
     "data": {
      "image/png": "[encoded data removed]",
      "text/plain": [
       "<Figure size 432x432 with 3 Axes>"
      ]
     },
     "metadata": {
      "needs_background": "light"
     },
     "output_type": "display_data"
    },
    {
     "data": {
      "image/png": "[encoded data removed]",
      "text/plain": [
       "<Figure size 432x432 with 3 Axes>"
      ]
     },
     "metadata": {
      "needs_background": "light"
     },
     "output_type": "display_data"
    }
   ],
   "source": [
    "import pandas as pd\n",
    "import numpy as np\n",
    "from sklearn.model_selection import train_test_split \n",
    "from sklearn.preprocessing import StandardScaler \n",
    "from sklearn.neighbors import KNeighborsClassifier \n",
    "from sklearn.metrics import confusion_matrix\n",
    "from sklearn.metrics import f1_score\n",
    "from sklearn.metrics import accuracy_score\n",
    "from sklearn import datasets\n",
    "from sklearn.metrics import confusion_matrix\n",
    "from sklearn.model_selection import train_test_split \n",
    "from sklearn import preprocessing\n",
    "import matplotlib.pyplot as plot\n",
    "import seaborn as sns;\n",
    "dataset = pd.read_csv('tshirt.csv')\n",
    "x = dataset['Weight'].values\n",
    "y = dataset['Hight'].values\n",
    "z = dataset['Size'].values\n",
    "print(dataset.head(5))\n",
    "le =preprocessing.LabelEncoder()\n",
    "size=le.fit_transform(z)\n",
    "print(size[:5])\n",
    "features=list(zip(x,y))\n",
    "print(features[:5]) \n",
    "X_train,X_test,y_train,y_test=train_test_split(features,size,test_size=.7)\n",
    "# Training a KNN classifier\n",
    "from sklearn.neighbors import KNeighborsClassifier \n",
    "knn=KNeighborsClassifier(n_neighbors=7)\n",
    "knn.fit(X_train,y_train)\n",
    "#Accuracy on X test\n",
    "accuracy=knn.score(X_test,y_test)\n",
    "print(accuracy)\n",
    "print(\"Moon\")\n",
    "print(len(X_test))\n",
    "print(len(y_test))\n",
    "# Displaying Predictions\n",
    "knn_predictions=knn.predict(X_test)\n",
    "df = pd.DataFrame({'Actual':y_test.flatten(), 'Predicted':knn_predictions.flatten()}) \n",
    "print(df)\n",
    "df.plot(kind='bar')\n",
    "plot.show()\n",
    "sns.jointplot(x=x[:35],y=knn_predictions,data=dataset)\n",
    "sns.jointplot(x=y[:35],y=knn_predictions,data=dataset)\n"
   ]
  },
  {
   "cell_type": "code",
   "execution_count": null,
   "metadata": {},
   "outputs": [],
   "source": []
  }
 ],
 "metadata": {
  "kernelspec": {
   "display_name": "Python 3",
   "language": "python",
   "name": "python3"
  },
  "language_info": {
   "codemirror_mode": {
    "name": "ipython",
    "version": 3
   },
   "file_extension": ".py",
   "mimetype": "text/x-python",
   "name": "python",
   "nbconvert_exporter": "python",
   "pygments_lexer": "ipython3",
   "version": "3.7.0"
  }
 },
 "nbformat": 4,
 "nbformat_minor": 2
}
